{
 "cells": [
  {
   "cell_type": "markdown",
   "id": "fc135f26-034a-44f9-bab6-2ba3886a7b2b",
   "metadata": {},
   "source": [
    "Que 1 Answer :\n",
    "The keyword used to create a function in Python is \"def\"."
   ]
  },
  {
   "cell_type": "code",
   "execution_count": 2,
   "id": "332512e1-4f96-4fed-ae5d-7063002887f5",
   "metadata": {},
   "outputs": [],
   "source": [
    "def odd_numbers():\n",
    "    l1 = []\n",
    "    for i in range(1, 26):\n",
    "        if i % 2 != 0:\n",
    "            l1.append(i)\n",
    "    return l1\n"
   ]
  },
  {
   "cell_type": "code",
   "execution_count": 3,
   "id": "bf1a01ae-3e7e-43ce-a19f-396df1c47106",
   "metadata": {},
   "outputs": [
    {
     "data": {
      "text/plain": [
       "[1, 3, 5, 7, 9, 11, 13, 15, 17, 19, 21, 23, 25]"
      ]
     },
     "execution_count": 3,
     "metadata": {},
     "output_type": "execute_result"
    }
   ],
   "source": [
    "odd_numbers()"
   ]
  },
  {
   "cell_type": "markdown",
   "id": "f5b9a236-3da3-423c-add7-288a04f063b6",
   "metadata": {},
   "source": [
    "Que 2 Answer:\n",
    "*args allows you to pass a non-keyworded, variable-length argument list to the function.\n",
    "\n",
    "*kwargs allows you to pass keyworded, variable-length argument list to the function."
   ]
  },
  {
   "cell_type": "code",
   "execution_count": 4,
   "id": "99999f7f-b16f-44ba-8304-5e3babc9d914",
   "metadata": {},
   "outputs": [
    {
     "name": "stdout",
     "output_type": "stream",
     "text": [
      "1\n",
      "2\n",
      "3\n",
      "4\n",
      "5\n"
     ]
    }
   ],
   "source": [
    "#*args examole\n",
    "def test1(*args):\n",
    "    for arg in args:\n",
    "        print(arg)\n",
    "        \n",
    "test1(1, 2, 3, 4, 5)"
   ]
  },
  {
   "cell_type": "code",
   "execution_count": 5,
   "id": "6ab04e7d-5820-43eb-8e09-009999f3acd8",
   "metadata": {},
   "outputs": [
    {
     "name": "stdout",
     "output_type": "stream",
     "text": [
      "name = Chetan\n",
      "age = 25\n"
     ]
    }
   ],
   "source": [
    "#*kargs examole\n",
    "def test2(**kwargs):\n",
    "    for key, value in kwargs.items():\n",
    "        print(\"%s = %s\" %(key, value))\n",
    "        \n",
    "test2(name=\"Chetan\", age=25)"
   ]
  },
  {
   "cell_type": "markdown",
   "id": "a08700e3-ae5a-4000-815c-9ecfbc21f41f",
   "metadata": {},
   "source": [
    "Que 3 Answer:\n",
    "Iterator in Python is an object that is used to iterate over iterable objects like lists, tuples, dicts, and sets. The iterator object is initialized using the iter() method. It uses the next() method for iteration.\n",
    "\n",
    "__iter__(): The iter() method is called for the initialization of an iterator. This returns an iterator object\n",
    "\n",
    "__next__(): The next method returns the next value for the iterable. When we use a for loop to traverse any iterable object, internally it uses the iter() method to get an iterator object, which further uses the next() method to iterate over. This method raises a StopIteration to signal the end of the iteration."
   ]
  },
  {
   "cell_type": "code",
   "execution_count": 1,
   "id": "c138405d-9e98-41bc-b222-ba4698304142",
   "metadata": {},
   "outputs": [
    {
     "name": "stdout",
     "output_type": "stream",
     "text": [
      "2\n",
      "4\n",
      "6\n",
      "8\n",
      "10\n"
     ]
    }
   ],
   "source": [
    "l = [2, 4, 6, 8, 10, 12, 14, 16, 18, 20]\n",
    "\n",
    "l1 = iter(l)\n",
    "\n",
    "for i in range(5):\n",
    "    element = next(l1)\n",
    "    print(element)\n"
   ]
  },
  {
   "cell_type": "markdown",
   "id": "9ca00df9-db63-4bf3-9aac-eafa3ea17c7b",
   "metadata": {},
   "source": [
    "Que 4 Answer :\n",
    "yield keyword is used to create a generator function. A type of function that is memory efficient and can be used like an iterator object.\n",
    "\n",
    "The yield keyword will turn any expression that is given with it into a generator object and return it to the caller. Therefore, you must iterate over the generator object if you wish to obtain the values stored there."
   ]
  },
  {
   "cell_type": "code",
   "execution_count": 8,
   "id": "3a8f44cb-a442-454c-b0e2-9a5443e1e43b",
   "metadata": {},
   "outputs": [
    {
     "data": {
      "text/plain": [
       "7"
      ]
     },
     "execution_count": 8,
     "metadata": {},
     "output_type": "execute_result"
    }
   ],
   "source": [
    "# Example of generator function\n",
    "def test3(a,b):\n",
    "    return a+b\n",
    "test3(3,4)\n"
   ]
  },
  {
   "cell_type": "code",
   "execution_count": 2,
   "id": "079ef746-18cc-4cf7-a71f-661cc1263daa",
   "metadata": {},
   "outputs": [
    {
     "name": "stdout",
     "output_type": "stream",
     "text": [
      "2\n",
      "3\n",
      "5\n",
      "7\n",
      "11\n",
      "13\n",
      "17\n",
      "19\n",
      "23\n",
      "29\n",
      "31\n",
      "37\n",
      "41\n",
      "43\n",
      "47\n",
      "53\n",
      "59\n",
      "61\n",
      "67\n",
      "71\n"
     ]
    }
   ],
   "source": [
    "# Que 5 Answer:\n",
    "def primes():\n",
    "    num = 2\n",
    "    while num < 1000:\n",
    "        is_prime = True\n",
    "        for i in range(2, int(num ** 0.5) + 1):\n",
    "            if num % i == 0:\n",
    "                is_prime = False\n",
    "                break\n",
    "        if is_prime:\n",
    "            yield num\n",
    "        num += 1\n",
    "prime_gen = primes()\n",
    "for i in range(20):\n",
    "    print(next(prime_gen))\n"
   ]
  },
  {
   "cell_type": "code",
   "execution_count": 4,
   "id": "3b82a451-ceb2-468f-b2a3-48dc50daa358",
   "metadata": {},
   "outputs": [
    {
     "name": "stdout",
     "output_type": "stream",
     "text": [
      "0\n",
      "1\n",
      "1\n",
      "2\n",
      "3\n",
      "5\n",
      "8\n",
      "13\n",
      "21\n",
      "34\n"
     ]
    }
   ],
   "source": [
    "# Que 6 Answer :\n",
    "a, b = 0, 1\n",
    "count = 0\n",
    "\n",
    "while count < 10:\n",
    "    print(a)\n",
    "    a, b = b, a + b\n",
    "    count += 1\n"
   ]
  },
  {
   "cell_type": "code",
   "execution_count": 5,
   "id": "cf00f8a1-30b4-4cdd-99f4-2a9a266d4187",
   "metadata": {},
   "outputs": [
    {
     "name": "stdout",
     "output_type": "stream",
     "text": [
      "['p', 'w', 's', 'k', 'i', 'l', 'l', 's']\n"
     ]
    }
   ],
   "source": [
    "# Que 7 Answer:\n",
    "s = 'pwskills'\n",
    "s1 = [i for i in s]\n",
    "print(s1)\n"
   ]
  },
  {
   "cell_type": "code",
   "execution_count": 6,
   "id": "d86b2022-8663-422f-a959-80e44b032bb5",
   "metadata": {},
   "outputs": [
    {
     "name": "stdin",
     "output_type": "stream",
     "text": [
      "Enter a number:  5\n"
     ]
    },
    {
     "name": "stdout",
     "output_type": "stream",
     "text": [
      "5 is a palindrome number\n"
     ]
    }
   ],
   "source": [
    "# Que 8 Answer:\n",
    "num = int(input(\"Enter a number: \"))\n",
    "temp = num\n",
    "reverse_num = 0\n",
    "\n",
    "while temp > 0:\n",
    "    digit = temp % 10\n",
    "    reverse_num = reverse_num * 10 + digit\n",
    "    temp = temp // 10\n",
    "\n",
    "if num == reverse_num:\n",
    "    print(num, \"is a palindrome number\")\n",
    "else:\n",
    "    print(num, \"is not a palindrome number\")\n"
   ]
  },
  {
   "cell_type": "code",
   "execution_count": 7,
   "id": "e817395a-cd47-4392-8f40-f263dea11b2b",
   "metadata": {},
   "outputs": [
    {
     "name": "stdout",
     "output_type": "stream",
     "text": [
      "[1, 3, 5, 7, 9, 11, 13, 15, 17, 19, 21, 23, 25, 27, 29, 31, 33, 35, 37, 39, 41, 43, 45, 47, 49, 51, 53, 55, 57, 59, 61, 63, 65, 67, 69, 71, 73, 75, 77, 79, 81, 83, 85, 87, 89, 91, 93, 95, 97, 99]\n"
     ]
    }
   ],
   "source": [
    "# Que 9 Answer:\n",
    "odd_numbers = [num for num in range(1, 101) if num % 2 != 0]\n",
    "\n",
    "print(odd_numbers)\n"
   ]
  },
  {
   "cell_type": "code",
   "execution_count": null,
   "id": "d7f89aa4-01b1-44ab-bc6a-45ca78e86bf2",
   "metadata": {},
   "outputs": [],
   "source": []
  }
 ],
 "metadata": {
  "kernelspec": {
   "display_name": "Python 3 (ipykernel)",
   "language": "python",
   "name": "python3"
  },
  "language_info": {
   "codemirror_mode": {
    "name": "ipython",
    "version": 3
   },
   "file_extension": ".py",
   "mimetype": "text/x-python",
   "name": "python",
   "nbconvert_exporter": "python",
   "pygments_lexer": "ipython3",
   "version": "3.10.8"
  }
 },
 "nbformat": 4,
 "nbformat_minor": 5
}
